{
 "cells": [
  {
   "cell_type": "code",
   "execution_count": null,
   "id": "acfede5c",
   "metadata": {},
   "outputs": [],
   "source": [
    "from config import *\n",
    "from dataset import bandpass_filter, cascaded_filters\n",
    "import pandas as pd\n",
    "from matplotlib import pyplot as plt\n",
    "import numpy as np\n",
    "from ipywidgets import interact, interactive, fixed, interact_manual\n",
    "import ipywidgets as widgets\n",
    "import matplotlib\n",
    "%matplotlib notebook"
   ]
  },
  {
   "cell_type": "code",
   "execution_count": 2,
   "id": "fc34372d",
   "metadata": {},
   "outputs": [],
   "source": [
    "df = pd.read_csv('../ECG_Data/WA20_pre1001.txt', header=None, usecols=[1, 3])\n",
    "ecg = np.array(df[1][0:307200])\n",
    "clean_ecg = bandpass_filter(ecg, order, low_cutoff, high_cutoff, nyq)"
   ]
  },
  {
   "cell_type": "code",
   "execution_count": null,
   "id": "543ab6d9",
   "metadata": {},
   "outputs": [],
   "source": [
    "from dataset import process_ecg\n",
    "import keras"
   ]
  },
  {
   "cell_type": "code",
   "execution_count": 6,
   "id": "77d45c15",
   "metadata": {},
   "outputs": [
    {
     "ename": "NameError",
     "evalue": "name 'load_model' is not defined",
     "output_type": "error",
     "traceback": [
      "\u001B[1;31m---------------------------------------------------------------------------\u001B[0m",
      "\u001B[1;31mNameError\u001B[0m                                 Traceback (most recent call last)",
      "\u001B[1;32m~\\AppData\\Local\\Temp/ipykernel_109432/2333219723.py\u001B[0m in \u001B[0;36m<module>\u001B[1;34m\u001B[0m\n\u001B[1;32m----> 1\u001B[1;33m \u001B[0mmodel\u001B[0m \u001B[1;33m=\u001B[0m \u001B[0mload_model\u001B[0m\u001B[1;33m(\u001B[0m\u001B[1;34mf'{animal}_model_val_cat'\u001B[0m\u001B[1;33m,\u001B[0m \u001B[0mcompile\u001B[0m\u001B[1;33m=\u001B[0m\u001B[1;32mFalse\u001B[0m\u001B[1;33m)\u001B[0m\u001B[1;33m\u001B[0m\u001B[1;33m\u001B[0m\u001B[0m\n\u001B[0m",
      "\u001B[1;31mNameError\u001B[0m: name 'load_model' is not defined"
     ]
    }
   ],
   "source": [
    "model = load_model(f'{animal}_model_val_cat', compile=False)"
   ]
  },
  {
   "cell_type": "code",
   "execution_count": null,
   "id": "d52df924",
   "metadata": {},
   "outputs": [],
   "source": []
  }
 ],
 "metadata": {
  "kernelspec": {
   "display_name": "Python 3 (ipykernel)",
   "language": "python",
   "name": "python3"
  },
  "language_info": {
   "codemirror_mode": {
    "name": "ipython",
    "version": 3
   },
   "file_extension": ".py",
   "mimetype": "text/x-python",
   "name": "python",
   "nbconvert_exporter": "python",
   "pygments_lexer": "ipython3",
   "version": "3.9.7"
  }
 },
 "nbformat": 4,
 "nbformat_minor": 5
}
