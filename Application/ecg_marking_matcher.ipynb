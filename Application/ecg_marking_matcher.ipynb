{
 "cells": [
  {
   "cell_type": "code",
   "execution_count": 1,
   "id": "f9e89447",
   "metadata": {},
   "outputs": [
    {
     "data": {
      "text/plain": [
       "\"\\nRat Val: 'RAT #12_2016_WK4.ascii'\\nRat Train: RAT #01_2021_baseline.ascii\\n\\nMouse Train: T22 - 2 hour data.ascii\\nMouse Val: T21_transition example3_900s.ascii\\n\""
      ]
     },
     "execution_count": 1,
     "metadata": {},
     "output_type": "execute_result"
    }
   ],
   "source": [
    "import xlrd\n",
    "import re\n",
    "from datetime import datetime as dt\n",
    "import os\n",
    "import pandas as pd\n",
    "import numpy as np\n",
    "\n",
    "\"\"\"\n",
    "Reads from the ecg file and the excel file, and creates two new files. One containing the raw ECG signals, and the\n",
    "other containing the R-peaks, each line corresponding to the same line in the other file. 1 for R-peak and 0 otherwise.\n",
    "\"\"\"\n",
    "\n",
    "total_count = 10000000  # Maximum lines to copy over\n",
    "count = 0  # Current number of lines\n",
    "\n",
    "xl_file = os.path.join('..', 'Signal', 'RAT #01_2021_baseline_EPOCH DATA.xlsx')  # Data files\n",
    "ecg_file_name = os.path.join('..', 'ECG_Data', 'RAT #01_2021_baseline.ascii')\n",
    "out_file = os.path.join('..', 'Training', 'rat_train.txt')\n",
    "'''\n",
    "Rat Val: 'RAT #12_2016_WK4.ascii'\n",
    "Rat Train: RAT #01_2021_baseline.ascii\n",
    "\n",
    "Mouse Train: T22 - 2 hour data.ascii\n",
    "Mouse Val: T21_transition example3_900s.ascii\n",
    "'''"
   ]
  },
  {
   "cell_type": "code",
   "execution_count": 2,
   "id": "f16fe046",
   "metadata": {},
   "outputs": [
    {
     "name": "stderr",
     "output_type": "stream",
     "text": [
      "C:\\Users\\tonyz\\anaconda3\\lib\\site-packages\\openpyxl\\styles\\stylesheet.py:226: UserWarning: Workbook contains no default style, apply openpyxl's default\n",
      "  warn(\"Workbook contains no default style, apply openpyxl's default\")\n",
      "C:\\Users\\tonyz\\anaconda3\\lib\\site-packages\\openpyxl\\worksheet\\header_footer.py:48: UserWarning: Cannot parse header or footer so it will be ignored\n",
      "  warn(\"\"\"Cannot parse header or footer so it will be ignored\"\"\")\n"
     ]
    }
   ],
   "source": [
    "df_excel = pd.read_excel(xl_file, sheet_name=6, usecols=['Date'])"
   ]
  },
  {
   "cell_type": "code",
   "execution_count": 3,
   "id": "8d5c04c1",
   "metadata": {},
   "outputs": [
    {
     "name": "stderr",
     "output_type": "stream",
     "text": [
      "C:\\Users\\tonyz\\anaconda3\\lib\\site-packages\\IPython\\core\\interactiveshell.py:3444: DtypeWarning: Columns (1) have mixed types.Specify dtype option on import or set low_memory=False.\n",
      "  exec(code_obj, self.user_global_ns, self.user_ns)\n"
     ]
    }
   ],
   "source": [
    "df = pd.read_csv(ecg_file_name, comment='#')\n",
    "df.columns = df.columns.str.replace(' ', '') "
   ]
  },
  {
   "cell_type": "code",
   "execution_count": 4,
   "id": "aa9b8627",
   "metadata": {},
   "outputs": [],
   "source": [
    "df['Time'] = pd.to_datetime(df['Time'], format=\"%m/%d/%Y %I:%M:%S.%f %p\", exact=False)\n",
    "# date2 = df_excel['Date']\n",
    "# date1, date2"
   ]
  },
  {
   "cell_type": "code",
   "execution_count": 5,
   "id": "f5f921bc",
   "metadata": {},
   "outputs": [],
   "source": [
    "df = df.merge(df_excel, left_on='Time', right_on='Date', how='outer')"
   ]
  },
  {
   "cell_type": "code",
   "execution_count": 6,
   "id": "3339a2b1",
   "metadata": {},
   "outputs": [
    {
     "name": "stdout",
     "output_type": "stream",
     "text": [
      "['Time', 'Yr9_001:ECG', 'Date']\n"
     ]
    }
   ],
   "source": [
    "keys = list(df.columns.values)\n",
    "print(keys)"
   ]
  },
  {
   "cell_type": "code",
   "execution_count": 7,
   "id": "c5b5daf3",
   "metadata": {},
   "outputs": [
    {
     "data": {
      "text/plain": [
       "array([0, 0, 0, ..., 0, 0, 0])"
      ]
     },
     "execution_count": 7,
     "metadata": {},
     "output_type": "execute_result"
    }
   ],
   "source": [
    "markings = 1 - df[keys[2]].isna().to_numpy()\n",
    "markings[1:][markings[:-1]==markings[1:]] = 0\n",
    "markings"
   ]
  },
  {
   "cell_type": "code",
   "execution_count": 8,
   "id": "2971f116",
   "metadata": {},
   "outputs": [],
   "source": [
    "df = df[[keys[1], keys[2]]]"
   ]
  },
  {
   "cell_type": "code",
   "execution_count": 9,
   "id": "1a99a010",
   "metadata": {},
   "outputs": [],
   "source": [
    "markings = 1 - df[keys[2]].isna().to_numpy()\n",
    "markings[1:][markings[:-1]==markings[1:]] = 0\n",
    "df[keys[2]] = markings\n",
    "df[keys[1]] = pd.to_numeric(df[keys[1]], errors ='coerce').fillna(0)"
   ]
  },
  {
   "cell_type": "code",
   "execution_count": 11,
   "id": "3f03692c",
   "metadata": {},
   "outputs": [],
   "source": [
    "df.to_csv(out_file, sep=' ', header=False, index=False)"
   ]
  },
  {
   "cell_type": "code",
   "execution_count": null,
   "id": "2afb142f",
   "metadata": {},
   "outputs": [],
   "source": []
  }
 ],
 "metadata": {
  "kernelspec": {
   "display_name": "Python 3 (ipykernel)",
   "language": "python",
   "name": "python3"
  },
  "language_info": {
   "codemirror_mode": {
    "name": "ipython",
    "version": 3
   },
   "file_extension": ".py",
   "mimetype": "text/x-python",
   "name": "python",
   "nbconvert_exporter": "python",
   "pygments_lexer": "ipython3",
   "version": "3.9.7"
  }
 },
 "nbformat": 4,
 "nbformat_minor": 5
}
